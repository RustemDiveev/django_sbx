{
 "cells": [
  {
   "cell_type": "code",
   "execution_count": 1,
   "id": "a0ea4aba",
   "metadata": {},
   "outputs": [],
   "source": [
    "# Это нужно, чтобы можно было работать с файлами в Django\n",
    "import sys \n",
    "import os, django\n",
    "\n",
    "# Домашний комп\n",
    "if os.path.isdir(\"C:\\\\IT\\\\python\\\\django_sbx\\\\django_sbx\\\\django_sbx\"):\n",
    "    sys.path.append(\"C:\\\\IT\\\\python\\\\django_sbx\\\\django_sbx\\\\django_sbx\")\n",
    "# Рабочий комп \n",
    "elif os.path.isdir(\"C:\\\\Users\\\\rustem.diveev\\\\Desktop\\\\django_sbx\\\\django_sbx\"):\n",
    "    sys.path.append(\"C:\\\\Users\\\\rustem.diveev\\\\Desktop\\\\django_sbx\\\\django_sbx\")\n",
    "    \n",
    "os.environ.setdefault(\"DJANGO_SETTINGS_MODULE\", \"django_sbx.settings\")\n",
    "django.setup()\n",
    "\n",
    "# Это нужно, чтобы разрешить синхронные операции в асинхронном окружении - ничего не понял\n",
    "os.environ[\"DJANGO_ALLOW_ASYNC_UNSAFE\"] = \"true\""
   ]
  },
  {
   "cell_type": "code",
   "execution_count": 2,
   "id": "693664e2",
   "metadata": {},
   "outputs": [],
   "source": [
    "from audit_and_scd.scd import get_hardcoded_model, register_model\n",
    "\n",
    "model = get_hardcoded_model()\n",
    "register_model(model)"
   ]
  },
  {
   "cell_type": "code",
   "execution_count": 3,
   "id": "f6159037",
   "metadata": {},
   "outputs": [],
   "source": [
    "row = model(\n",
    "    pk_field=\"A\",\n",
    "    attr=\"Alpha\"\n",
    ")\n",
    "\n",
    "row.save(user=\"Rustem\")"
   ]
  },
  {
   "cell_type": "code",
   "execution_count": 4,
   "id": "f242cfe3",
   "metadata": {},
   "outputs": [
    {
     "ename": "AttributeError",
     "evalue": "Manager isn't accessible via SCDModelV1 instances",
     "output_type": "error",
     "traceback": [
      "\u001b[1;31m---------------------------------------------------------------------------\u001b[0m",
      "\u001b[1;31mAttributeError\u001b[0m                            Traceback (most recent call last)",
      "Input \u001b[1;32mIn [4]\u001b[0m, in \u001b[0;36m<cell line: 3>\u001b[1;34m()\u001b[0m\n\u001b[0;32m      1\u001b[0m row\u001b[38;5;241m.\u001b[39mattr \u001b[38;5;241m=\u001b[39m \u001b[38;5;124m\"\u001b[39m\u001b[38;5;124mAlphaSamec\u001b[39m\u001b[38;5;124m\"\u001b[39m\n\u001b[1;32m----> 3\u001b[0m \u001b[43mrow\u001b[49m\u001b[38;5;241;43m.\u001b[39;49m\u001b[43msave\u001b[49m\u001b[43m(\u001b[49m\u001b[43muser\u001b[49m\u001b[38;5;241;43m=\u001b[39;49m\u001b[38;5;124;43m\"\u001b[39;49m\u001b[38;5;124;43mMansur\u001b[39;49m\u001b[38;5;124;43m\"\u001b[39;49m\u001b[43m)\u001b[49m\n\u001b[0;32m      5\u001b[0m model\u001b[38;5;241m.\u001b[39mobjects\u001b[38;5;241m.\u001b[39mall()\u001b[38;5;241m.\u001b[39mvalues()\n",
      "File \u001b[1;32m~\\Desktop\\django_sbx\\django_sbx\\audit_and_scd\\scd.py:33\u001b[0m, in \u001b[0;36mBaseAuditModel.save\u001b[1;34m(self, *args, **kwargs)\u001b[0m\n\u001b[0;32m     31\u001b[0m client \u001b[38;5;241m=\u001b[39m MongoClient(\u001b[38;5;124m\"\u001b[39m\u001b[38;5;124mlocalhost\u001b[39m\u001b[38;5;124m\"\u001b[39m, \u001b[38;5;241m27017\u001b[39m)\n\u001b[0;32m     32\u001b[0m collection \u001b[38;5;241m=\u001b[39m client\u001b[38;5;241m.\u001b[39mtest[\u001b[38;5;28mself\u001b[39m\u001b[38;5;241m.\u001b[39m\u001b[38;5;18m__class__\u001b[39m\u001b[38;5;241m.\u001b[39m\u001b[38;5;18m__name__\u001b[39m] \n\u001b[1;32m---> 33\u001b[0m row \u001b[38;5;241m=\u001b[39m \u001b[38;5;28;43mself\u001b[39;49m\u001b[38;5;241;43m.\u001b[39;49m\u001b[43mget_data_dict\u001b[49m\u001b[43m(\u001b[49m\u001b[43mbefore_changes\u001b[49m\u001b[38;5;241;43m=\u001b[39;49m\u001b[38;5;28;43;01mTrue\u001b[39;49;00m\u001b[43m)\u001b[49m\n\u001b[0;32m     34\u001b[0m row\u001b[38;5;241m.\u001b[39mupdate({\u001b[38;5;124m\"\u001b[39m\u001b[38;5;124mmodified_to_dttm\u001b[39m\u001b[38;5;124m\"\u001b[39m: dttm})\n\u001b[0;32m     35\u001b[0m collection\u001b[38;5;241m.\u001b[39minsert_one(row)\n",
      "File \u001b[1;32m~\\Desktop\\django_sbx\\django_sbx\\audit_and_scd\\scd.py:66\u001b[0m, in \u001b[0;36mBaseAuditModel.get_data_dict\u001b[1;34m(self, before_changes)\u001b[0m\n\u001b[0;32m     63\u001b[0m data \u001b[38;5;241m=\u001b[39m {}\n\u001b[0;32m     65\u001b[0m \u001b[38;5;28;01mif\u001b[39;00m before_changes:\n\u001b[1;32m---> 66\u001b[0m     data_obj \u001b[38;5;241m=\u001b[39m \u001b[38;5;28;43mself\u001b[39;49m\u001b[38;5;241;43m.\u001b[39;49m\u001b[43mobjects\u001b[49m\u001b[38;5;241m.\u001b[39mget(pk\u001b[38;5;241m=\u001b[39m\u001b[38;5;28mself\u001b[39m\u001b[38;5;241m.\u001b[39mid)\n\u001b[0;32m     67\u001b[0m \u001b[38;5;28;01melse\u001b[39;00m:\n\u001b[0;32m     68\u001b[0m     data_obj \u001b[38;5;241m=\u001b[39m \u001b[38;5;28mself\u001b[39m\n",
      "File \u001b[1;32m~\\Desktop\\django_sbx\\venv\\lib\\site-packages\\django\\db\\models\\manager.py:186\u001b[0m, in \u001b[0;36mManagerDescriptor.__get__\u001b[1;34m(self, instance, cls)\u001b[0m\n\u001b[0;32m    184\u001b[0m \u001b[38;5;28;01mdef\u001b[39;00m \u001b[38;5;21m__get__\u001b[39m(\u001b[38;5;28mself\u001b[39m, instance, \u001b[38;5;28mcls\u001b[39m\u001b[38;5;241m=\u001b[39m\u001b[38;5;28;01mNone\u001b[39;00m):\n\u001b[0;32m    185\u001b[0m     \u001b[38;5;28;01mif\u001b[39;00m instance \u001b[38;5;129;01mis\u001b[39;00m \u001b[38;5;129;01mnot\u001b[39;00m \u001b[38;5;28;01mNone\u001b[39;00m:\n\u001b[1;32m--> 186\u001b[0m         \u001b[38;5;28;01mraise\u001b[39;00m \u001b[38;5;167;01mAttributeError\u001b[39;00m(\n\u001b[0;32m    187\u001b[0m             \u001b[38;5;124m\"\u001b[39m\u001b[38;5;124mManager isn\u001b[39m\u001b[38;5;124m'\u001b[39m\u001b[38;5;124mt accessible via \u001b[39m\u001b[38;5;132;01m%s\u001b[39;00m\u001b[38;5;124m instances\u001b[39m\u001b[38;5;124m\"\u001b[39m \u001b[38;5;241m%\u001b[39m \u001b[38;5;28mcls\u001b[39m\u001b[38;5;241m.\u001b[39m\u001b[38;5;18m__name__\u001b[39m\n\u001b[0;32m    188\u001b[0m         )\n\u001b[0;32m    190\u001b[0m     \u001b[38;5;28;01mif\u001b[39;00m \u001b[38;5;28mcls\u001b[39m\u001b[38;5;241m.\u001b[39m_meta\u001b[38;5;241m.\u001b[39mabstract:\n\u001b[0;32m    191\u001b[0m         \u001b[38;5;28;01mraise\u001b[39;00m \u001b[38;5;167;01mAttributeError\u001b[39;00m(\n\u001b[0;32m    192\u001b[0m             \u001b[38;5;124m\"\u001b[39m\u001b[38;5;124mManager isn\u001b[39m\u001b[38;5;124m'\u001b[39m\u001b[38;5;124mt available; \u001b[39m\u001b[38;5;132;01m%s\u001b[39;00m\u001b[38;5;124m is abstract\u001b[39m\u001b[38;5;124m\"\u001b[39m \u001b[38;5;241m%\u001b[39m (\u001b[38;5;28mcls\u001b[39m\u001b[38;5;241m.\u001b[39m_meta\u001b[38;5;241m.\u001b[39mobject_name,)\n\u001b[0;32m    193\u001b[0m         )\n",
      "\u001b[1;31mAttributeError\u001b[0m: Manager isn't accessible via SCDModelV1 instances"
     ]
    }
   ],
   "source": [
    "row.attr = \"AlphaSamec\"\n",
    "\n",
    "row.save(user=\"Mansur\")\n",
    "\n",
    "model.objects.all().values()"
   ]
  },
  {
   "cell_type": "code",
   "execution_count": null,
   "id": "b5eaa0d3",
   "metadata": {},
   "outputs": [],
   "source": [
    "row.delete(user=\"Bazyrka\")"
   ]
  },
  {
   "cell_type": "code",
   "execution_count": 5,
   "id": "0ca7cc33",
   "metadata": {},
   "outputs": [],
   "source": [
    "row = model(\n",
    "    pk_field=\"B\",\n",
    "    attr=\"Bravo\"\n",
    ")"
   ]
  },
  {
   "cell_type": "code",
   "execution_count": 7,
   "id": "5ece0251",
   "metadata": {},
   "outputs": [],
   "source": [
    "row.save(user=\"Bazyr\")"
   ]
  },
  {
   "cell_type": "code",
   "execution_count": 8,
   "id": "bf6bbade",
   "metadata": {},
   "outputs": [],
   "source": [
    "row.attr = \"Delta\""
   ]
  },
  {
   "cell_type": "code",
   "execution_count": 9,
   "id": "56dc1592",
   "metadata": {},
   "outputs": [
    {
     "data": {
      "text/plain": [
       "<SCDModelV1: SCDModelV1 object (3)>"
      ]
     },
     "execution_count": 9,
     "metadata": {},
     "output_type": "execute_result"
    }
   ],
   "source": [
    "row"
   ]
  },
  {
   "cell_type": "code",
   "execution_count": 10,
   "id": "693cb7c0",
   "metadata": {},
   "outputs": [
    {
     "data": {
      "text/plain": [
       "{'_state': <django.db.models.base.ModelState at 0x2ad259bd6f0>,\n",
       " 'id': 3,\n",
       " 'created_by': 'Bazyr',\n",
       " 'created_dttm': datetime.datetime(2022, 6, 24, 16, 20, 46, 678013, tzinfo=datetime.timezone.utc),\n",
       " 'modified_by': None,\n",
       " 'modified_dttm': None,\n",
       " 'pk_field': 'B',\n",
       " 'attr': 'Delta'}"
      ]
     },
     "execution_count": 10,
     "metadata": {},
     "output_type": "execute_result"
    }
   ],
   "source": [
    "vars(row)"
   ]
  },
  {
   "cell_type": "code",
   "execution_count": 12,
   "id": "8d148b54",
   "metadata": {},
   "outputs": [
    {
     "data": {
      "text/plain": [
       "{'db': 'default', 'adding': False}"
      ]
     },
     "execution_count": 12,
     "metadata": {},
     "output_type": "execute_result"
    }
   ],
   "source": [
    "vars(row._state)"
   ]
  },
  {
   "cell_type": "code",
   "execution_count": 13,
   "id": "d7b07a23",
   "metadata": {},
   "outputs": [
    {
     "data": {
      "text/plain": [
       "audit_and_scd.scd.SCDModelV1"
      ]
     },
     "execution_count": 13,
     "metadata": {},
     "output_type": "execute_result"
    }
   ],
   "source": [
    "type(row)"
   ]
  },
  {
   "cell_type": "code",
   "execution_count": 14,
   "id": "629744a0",
   "metadata": {},
   "outputs": [
    {
     "ename": "AttributeError",
     "evalue": "'SCDModelV1' object has no attribute 'get'",
     "output_type": "error",
     "traceback": [
      "\u001b[1;31m---------------------------------------------------------------------------\u001b[0m",
      "\u001b[1;31mAttributeError\u001b[0m                            Traceback (most recent call last)",
      "Input \u001b[1;32mIn [14]\u001b[0m, in \u001b[0;36m<cell line: 1>\u001b[1;34m()\u001b[0m\n\u001b[1;32m----> 1\u001b[0m \u001b[43mrow\u001b[49m\u001b[38;5;241;43m.\u001b[39;49m\u001b[43mget\u001b[49m(pk\u001b[38;5;241m=\u001b[39m\u001b[38;5;241m1\u001b[39m)\n",
      "\u001b[1;31mAttributeError\u001b[0m: 'SCDModelV1' object has no attribute 'get'"
     ]
    }
   ],
   "source": []
  },
  {
   "cell_type": "code",
   "execution_count": null,
   "id": "1b8a5d8e",
   "metadata": {},
   "outputs": [],
   "source": []
  }
 ],
 "metadata": {
  "kernelspec": {
   "display_name": "Python 3 (ipykernel)",
   "language": "python",
   "name": "python3"
  },
  "language_info": {
   "codemirror_mode": {
    "name": "ipython",
    "version": 3
   },
   "file_extension": ".py",
   "mimetype": "text/x-python",
   "name": "python",
   "nbconvert_exporter": "python",
   "pygments_lexer": "ipython3",
   "version": "3.10.4"
  }
 },
 "nbformat": 4,
 "nbformat_minor": 5
}
