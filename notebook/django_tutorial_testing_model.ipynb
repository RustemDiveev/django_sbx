{
 "cells": [
  {
   "cell_type": "code",
   "execution_count": 1,
   "id": "e44b0cc4",
   "metadata": {},
   "outputs": [],
   "source": [
    "# Это нужно, чтобы можно было работать с файлами в Django\n",
    "import sys \n",
    "import os, django\n",
    "\n",
    "# Домашний комп\n",
    "if os.path.isdir(\"C:\\\\IT\\\\python\\\\django_sbx\\\\django_sbx\\\\django_sbx\"):\n",
    "    sys.path.append(\"C:\\\\IT\\\\python\\\\django_sbx\\\\django_sbx\\\\django_sbx\")\n",
    "# Рабочий комп \n",
    "elif os.path.isdir(\"C:\\\\Users\\\\rustem.diveev\\\\Desktop\\\\django_sbx\\\\django_sbx\"):\n",
    "    sys.path.append(\"C:\\\\Users\\\\rustem.diveev\\\\Desktop\\\\django_sbx\\\\django_sbx\")\n",
    "    \n",
    "os.environ.setdefault(\"DJANGO_SETTINGS_MODULE\", \"django_sbx.settings\")\n",
    "django.setup()\n",
    "\n",
    "# Это нужно, чтобы разрешить синхронные операции в асинхронном окружении - ничего не понял\n",
    "os.environ[\"DJANGO_ALLOW_ASYNC_UNSAFE\"] = \"true\""
   ]
  },
  {
   "cell_type": "code",
   "execution_count": 2,
   "id": "95e01a21",
   "metadata": {},
   "outputs": [
    {
     "data": {
      "text/plain": [
       "True"
      ]
     },
     "execution_count": 2,
     "metadata": {},
     "output_type": "execute_result"
    }
   ],
   "source": [
    "# пример тестирования модели без сохранения сущности\n",
    "import datetime \n",
    "\n",
    "from django.utils import timezone\n",
    "\n",
    "from django_tutorial.models import Question \n",
    "\n",
    "# Должен возвращать False\n",
    "future_question = Question(pub_date=timezone.now() + datetime.timedelta(days=30))\n",
    "future_question.was_published_recently()"
   ]
  },
  {
   "cell_type": "code",
   "execution_count": null,
   "id": "18ba46ca",
   "metadata": {},
   "outputs": [],
   "source": []
  }
 ],
 "metadata": {
  "kernelspec": {
   "display_name": "Python 3 (ipykernel)",
   "language": "python",
   "name": "python3"
  },
  "language_info": {
   "codemirror_mode": {
    "name": "ipython",
    "version": 3
   },
   "file_extension": ".py",
   "mimetype": "text/x-python",
   "name": "python",
   "nbconvert_exporter": "python",
   "pygments_lexer": "ipython3",
   "version": "3.10.4"
  }
 },
 "nbformat": 4,
 "nbformat_minor": 5
}
