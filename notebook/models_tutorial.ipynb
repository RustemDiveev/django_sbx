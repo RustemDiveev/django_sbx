{
 "cells": [
  {
   "cell_type": "code",
   "execution_count": 1,
   "id": "e58de4df",
   "metadata": {},
   "outputs": [],
   "source": [
    "# Это нужно, чтобы можно было работать с файлами в Django\n",
    "import sys \n",
    "import os, django\n",
    "\n",
    "# Домашний комп\n",
    "if os.path.isdir(\"C:\\\\IT\\\\python\\\\django_sbx\\\\django_sbx\\\\django_sbx\"):\n",
    "    sys.path.append(\"C:\\\\IT\\\\python\\\\django_sbx\\\\django_sbx\\\\django_sbx\")\n",
    "# Рабочий комп \n",
    "elif os.path.isdir(\"C:\\\\Users\\\\rustem.diveev\\\\Desktop\\\\django_sbx\\\\django_sbx\"):\n",
    "    sys.path.append(\"C:\\\\Users\\\\rustem.diveev\\\\Desktop\\\\django_sbx\\\\django_sbx\")\n",
    "    \n",
    "os.environ.setdefault(\"DJANGO_SETTINGS_MODULE\", \"django_sbx.settings\")\n",
    "django.setup()\n",
    "\n",
    "# Это нужно, чтобы разрешить синхронные операции в асинхронном окружении - ничего не понял\n",
    "os.environ[\"DJANGO_ALLOW_ASYNC_UNSAFE\"] = \"true\""
   ]
  },
  {
   "cell_type": "code",
   "execution_count": 2,
   "id": "ccf759e8",
   "metadata": {},
   "outputs": [
    {
     "data": {
      "text/plain": [
       "(0, {})"
      ]
     },
     "execution_count": 2,
     "metadata": {},
     "output_type": "execute_result"
    }
   ],
   "source": [
    "from django.db import IntegrityError \n",
    "\n",
    "from models_tutorial.models import (\n",
    "    Person, BlankNullModel, DefaultModel, PkModel\n",
    ")\n",
    "\n",
    "# Очистка моделей\n",
    "Person.objects.all().delete()\n",
    "BlankNullModel.objects.all().delete()\n",
    "DefaultModel.objects.all().delete()"
   ]
  },
  {
   "cell_type": "code",
   "execution_count": 3,
   "id": "a1741ee4",
   "metadata": {},
   "outputs": [],
   "source": [
    "p = Person(name=\"Fred Flintstone\", shirt_size=\"L\")\n",
    "p.save()"
   ]
  },
  {
   "cell_type": "code",
   "execution_count": 4,
   "id": "7a2f4e38",
   "metadata": {},
   "outputs": [
    {
     "data": {
      "text/plain": [
       "'L'"
      ]
     },
     "execution_count": 4,
     "metadata": {},
     "output_type": "execute_result"
    }
   ],
   "source": [
    "p.shirt_size"
   ]
  },
  {
   "cell_type": "code",
   "execution_count": 5,
   "id": "3ddbf294",
   "metadata": {},
   "outputs": [
    {
     "data": {
      "text/plain": [
       "'Large'"
      ]
     },
     "execution_count": 5,
     "metadata": {},
     "output_type": "execute_result"
    }
   ],
   "source": [
    "# Обращение к display value у поля, где есть choices \n",
    "p.get_shirt_size_display()"
   ]
  },
  {
   "cell_type": "code",
   "execution_count": 6,
   "id": "70f10d12",
   "metadata": {},
   "outputs": [],
   "source": [
    "# Так-то можно сохранить любое значение, получается\n",
    "p = Person(name=\"Jumbo the Hutt\", shirt_size=\"Z\")\n",
    "p.save()"
   ]
  },
  {
   "cell_type": "code",
   "execution_count": 7,
   "id": "673596e1",
   "metadata": {},
   "outputs": [
    {
     "data": {
      "text/plain": [
       "'Z'"
      ]
     },
     "execution_count": 7,
     "metadata": {},
     "output_type": "execute_result"
    }
   ],
   "source": [
    "p.shirt_size"
   ]
  },
  {
   "cell_type": "code",
   "execution_count": 8,
   "id": "cfcbccd5",
   "metadata": {},
   "outputs": [
    {
     "data": {
      "text/plain": [
       "'Z'"
      ]
     },
     "execution_count": 8,
     "metadata": {},
     "output_type": "execute_result"
    }
   ],
   "source": [
    "# Но будет показываться то же самое, если нет сопоставления\n",
    "p.get_shirt_size_display()"
   ]
  },
  {
   "cell_type": "code",
   "execution_count": 9,
   "id": "5ea21c4c",
   "metadata": {},
   "outputs": [
    {
     "name": "stdout",
     "output_type": "stream",
     "text": [
      "ОШИБКА:  значение NULL в столбце \"blank\" отношения \"models_tutorial_blanknullmodel\" нарушает ограничение NOT NULL\n",
      "DETAIL:  Ошибочная строка содержит (1, None, , null, null, null).\n",
      "\n"
     ]
    }
   ],
   "source": [
    "\"\"\"\n",
    "    Проверка работы параметров blank и null у поля модели \n",
    "    blank - разрешает хранить пустые значения (на форме, на БД не влияет как выяснилось позже)\n",
    "    null - хранит пустые значения как null \n",
    "\"\"\"\n",
    "# Если null=False, a blank=True, то None передавать нельзя\n",
    "try:\n",
    "    BlankNullModel(\n",
    "        name=\"None\",\n",
    "        null=None,\n",
    "        blank=None,\n",
    "        blank_null=None\n",
    "    ).save()\n",
    "except IntegrityError as err:\n",
    "    print(err)"
   ]
  },
  {
   "cell_type": "code",
   "execution_count": 10,
   "id": "cfd0b9e8",
   "metadata": {},
   "outputs": [],
   "source": [
    "\"\"\"\n",
    "    В БД Postgres null, blank_null - null\n",
    "    Для поля null=False - если не указывать поле в конструкторе - то запишется как пустая строка\n",
    "\"\"\"\n",
    "\n",
    "p = BlankNullModel(\n",
    "    name=\"None_except_blank_true_field\",\n",
    "    null=None,\n",
    "    blank_null=None\n",
    ")\n",
    "p.save()"
   ]
  },
  {
   "cell_type": "code",
   "execution_count": 11,
   "id": "439fcc99",
   "metadata": {},
   "outputs": [
    {
     "data": {
      "text/plain": [
       "True"
      ]
     },
     "execution_count": 11,
     "metadata": {},
     "output_type": "execute_result"
    }
   ],
   "source": [
    "p.null is None"
   ]
  },
  {
   "cell_type": "code",
   "execution_count": 12,
   "id": "45aa1e41",
   "metadata": {},
   "outputs": [
    {
     "data": {
      "text/plain": [
       "True"
      ]
     },
     "execution_count": 12,
     "metadata": {},
     "output_type": "execute_result"
    }
   ],
   "source": [
    "p.blank_null is None"
   ]
  },
  {
   "cell_type": "code",
   "execution_count": 13,
   "id": "dfb54162",
   "metadata": {},
   "outputs": [],
   "source": [
    "\"\"\"\n",
    "    В БД - везде пустые строки\n",
    "\"\"\"\n",
    "p = BlankNullModel(\n",
    "    name=\"Empty_string\",\n",
    "    not_null_not_blank=\"\",\n",
    "    null=\"\",\n",
    "    blank=\"\",\n",
    "    blank_null=\"\"\n",
    ")\n",
    "p.save()"
   ]
  },
  {
   "cell_type": "code",
   "execution_count": 14,
   "id": "8db4c683",
   "metadata": {},
   "outputs": [
    {
     "data": {
      "text/plain": [
       "''"
      ]
     },
     "execution_count": 14,
     "metadata": {},
     "output_type": "execute_result"
    }
   ],
   "source": [
    "p.null"
   ]
  },
  {
   "cell_type": "code",
   "execution_count": 15,
   "id": "2c4c051e",
   "metadata": {},
   "outputs": [
    {
     "data": {
      "text/plain": [
       "''"
      ]
     },
     "execution_count": 15,
     "metadata": {},
     "output_type": "execute_result"
    }
   ],
   "source": [
    "p.blank"
   ]
  },
  {
   "cell_type": "code",
   "execution_count": 16,
   "id": "146c88af",
   "metadata": {},
   "outputs": [
    {
     "data": {
      "text/plain": [
       "''"
      ]
     },
     "execution_count": 16,
     "metadata": {},
     "output_type": "execute_result"
    }
   ],
   "source": [
    "p.blank_null"
   ]
  },
  {
   "cell_type": "code",
   "execution_count": 17,
   "id": "3775fa77",
   "metadata": {},
   "outputs": [],
   "source": [
    "\"\"\"\n",
    "    Тоже интересно, если не указывать поля в конструкторе, где null=True, \n",
    "    то в бд запишется null, а не пустая строка, где null=False\n",
    "\"\"\"\n",
    "p = BlankNullModel(\n",
    "    name=\"diff between blank false and true\",\n",
    "    not_null_not_blank=\"\",\n",
    "    blank=\"\"\n",
    ")\n",
    "p.save()"
   ]
  },
  {
   "cell_type": "code",
   "execution_count": 18,
   "id": "9906cc45",
   "metadata": {},
   "outputs": [
    {
     "data": {
      "text/plain": [
       "''"
      ]
     },
     "execution_count": 18,
     "metadata": {},
     "output_type": "execute_result"
    }
   ],
   "source": [
    "p.not_null_not_blank"
   ]
  },
  {
   "cell_type": "code",
   "execution_count": 19,
   "id": "203e9fb6",
   "metadata": {},
   "outputs": [
    {
     "data": {
      "text/plain": [
       "''"
      ]
     },
     "execution_count": 19,
     "metadata": {},
     "output_type": "execute_result"
    }
   ],
   "source": [
    "# Получается для postgres нет разницы между blank=True и blank=False\n",
    "# https://stackoverflow.com/questions/8609192/what-is-the-difference-between-null-true-and-blank-true-in-django/8609425#8609425\n",
    "p.blank"
   ]
  },
  {
   "cell_type": "code",
   "execution_count": 20,
   "id": "5f04e34e",
   "metadata": {},
   "outputs": [
    {
     "data": {
      "text/plain": [
       "True"
      ]
     },
     "execution_count": 20,
     "metadata": {},
     "output_type": "execute_result"
    }
   ],
   "source": [
    "p.null is None"
   ]
  },
  {
   "cell_type": "code",
   "execution_count": 21,
   "id": "62f075ab",
   "metadata": {},
   "outputs": [
    {
     "data": {
      "text/plain": [
       "True"
      ]
     },
     "execution_count": 21,
     "metadata": {},
     "output_type": "execute_result"
    }
   ],
   "source": [
    "p.blank_null is None"
   ]
  },
  {
   "cell_type": "code",
   "execution_count": 22,
   "id": "05232a75",
   "metadata": {},
   "outputs": [],
   "source": [
    "\"\"\"\n",
    "    Проверка default - можно передать как значение, так и callable \n",
    "\"\"\"\n",
    "d = DefaultModel()\n",
    "d.save()"
   ]
  },
  {
   "cell_type": "code",
   "execution_count": 23,
   "id": "882a8f81",
   "metadata": {},
   "outputs": [
    {
     "data": {
      "text/plain": [
       "'TEST'"
      ]
     },
     "execution_count": 23,
     "metadata": {},
     "output_type": "execute_result"
    }
   ],
   "source": [
    "d.default"
   ]
  },
  {
   "cell_type": "code",
   "execution_count": 24,
   "id": "6abbd5b3",
   "metadata": {},
   "outputs": [
    {
     "data": {
      "text/plain": [
       "'LITERAL'"
      ]
     },
     "execution_count": 24,
     "metadata": {},
     "output_type": "execute_result"
    }
   ],
   "source": [
    "d.default_callable"
   ]
  },
  {
   "cell_type": "code",
   "execution_count": 25,
   "id": "3a7b864f",
   "metadata": {},
   "outputs": [
    {
     "data": {
      "text/plain": [
       "99"
      ]
     },
     "execution_count": 25,
     "metadata": {},
     "output_type": "execute_result"
    }
   ],
   "source": [
    "d.default_various_callable"
   ]
  },
  {
   "cell_type": "code",
   "execution_count": 26,
   "id": "c4c9ca7a",
   "metadata": {},
   "outputs": [
    {
     "name": "stdout",
     "output_type": "stream",
     "text": [
      "99\n",
      "22\n",
      "72\n",
      "31\n",
      "62\n",
      "18\n",
      "97\n",
      "76\n",
      "4\n",
      "69\n",
      "74\n"
     ]
    }
   ],
   "source": [
    "\"\"\"\n",
    "    Кул, работает - можно задать функцию в python, возвращающую разные значения по умолчанию \n",
    "    Посмотрел через Dbeawer - не увидел через Quick DDL - что создаются конструкции default\n",
    "    Но это не точно\n",
    "\"\"\"\n",
    "for i in range(10):\n",
    "    DefaultModel().save()\n",
    "    \n",
    "for i in DefaultModel.objects.all():\n",
    "    print(i.default_various_callable)"
   ]
  },
  {
   "cell_type": "code",
   "execution_count": 32,
   "id": "59c59db0",
   "metadata": {},
   "outputs": [
    {
     "data": {
      "text/plain": [
       "mappingproxy({'__module__': 'models_tutorial.models',\n",
       "              'SHIRT_SIZES': [('S', 'Small'), ('M', 'Medium'), ('L', 'Large')],\n",
       "              '__doc__': 'Person(id, name, shirt_size)',\n",
       "              '_meta': <Options for Person>,\n",
       "              'DoesNotExist': models_tutorial.models.Person.DoesNotExist,\n",
       "              'MultipleObjectsReturned': models_tutorial.models.Person.MultipleObjectsReturned,\n",
       "              'name': <django.db.models.query_utils.DeferredAttribute at 0x1eadbe04580>,\n",
       "              'shirt_size': <django.db.models.query_utils.DeferredAttribute at 0x1eadbe045e0>,\n",
       "              'get_shirt_size_display': functools.partialmethod(<function Model._get_FIELD_display at 0x000001EAD9E31900>, , field=<django.db.models.fields.CharField: shirt_size>),\n",
       "              'id': <django.db.models.query_utils.DeferredAttribute at 0x1eadbe04760>,\n",
       "              'objects': <django.db.models.manager.ManagerDescriptor at 0x1eadbe04700>})"
      ]
     },
     "execution_count": 32,
     "metadata": {},
     "output_type": "execute_result"
    }
   ],
   "source": [
    "\"\"\"\n",
    "    Проверка PK\n",
    "    Значение PK менять нельзя - если получить существующий объект, \n",
    "    а затем изменить его PK, то при сохранении создасться новый объект\n",
    "    \n",
    "\"\"\"\n",
    "vars(Person)"
   ]
  },
  {
   "cell_type": "code",
   "execution_count": 33,
   "id": "2969dedb",
   "metadata": {},
   "outputs": [
    {
     "data": {
      "text/plain": [
       "{'field': <django.db.models.fields.BigAutoField: id>}"
      ]
     },
     "execution_count": 33,
     "metadata": {},
     "output_type": "execute_result"
    }
   ],
   "source": [
    "\"\"\"\n",
    "    Если primary_key - не указывается, то создается models.BigAutoField\n",
    "\"\"\"\n",
    "vars(Person.id)"
   ]
  },
  {
   "cell_type": "code",
   "execution_count": 34,
   "id": "6654a525",
   "metadata": {},
   "outputs": [
    {
     "data": {
      "text/plain": [
       "{'name': 'id',\n",
       " 'verbose_name': 'ID',\n",
       " '_verbose_name': 'ID',\n",
       " 'primary_key': True,\n",
       " 'max_length': None,\n",
       " '_unique': False,\n",
       " 'blank': True,\n",
       " 'null': False,\n",
       " 'remote_field': None,\n",
       " 'is_relation': False,\n",
       " 'default': django.db.models.fields.NOT_PROVIDED,\n",
       " 'editable': True,\n",
       " 'serialize': False,\n",
       " 'unique_for_date': None,\n",
       " 'unique_for_month': None,\n",
       " 'unique_for_year': None,\n",
       " 'choices': None,\n",
       " 'help_text': '',\n",
       " 'db_index': False,\n",
       " 'db_column': None,\n",
       " '_db_tablespace': None,\n",
       " 'auto_created': True,\n",
       " 'creation_counter': -16,\n",
       " '_validators': [],\n",
       " '_error_messages': None,\n",
       " 'error_messages': {'invalid_choice': 'Value %(value)r is not a valid choice.',\n",
       "  'null': 'This field cannot be null.',\n",
       "  'blank': 'This field cannot be blank.',\n",
       "  'unique': '%(model_name)s with this %(field_label)s already exists.',\n",
       "  'unique_for_date': '%(field_label)s must be unique for %(date_field_label)s %(lookup_type)s.',\n",
       "  'invalid': '“%(value)s” value must be an integer.'},\n",
       " 'attname': 'id',\n",
       " 'column': 'id',\n",
       " 'concrete': True,\n",
       " 'model': models_tutorial.models.Person,\n",
       " '_get_default': <function django.db.models.fields.return_None()>,\n",
       " 'cached_col': Col(models_tutorial_person, models_tutorial.Person.id)}"
      ]
     },
     "execution_count": 34,
     "metadata": {},
     "output_type": "execute_result"
    }
   ],
   "source": [
    "vars(Person.id.field)"
   ]
  },
  {
   "cell_type": "code",
   "execution_count": null,
   "id": "b22ecb62",
   "metadata": {},
   "outputs": [],
   "source": []
  }
 ],
 "metadata": {
  "kernelspec": {
   "display_name": "Python 3 (ipykernel)",
   "language": "python",
   "name": "python3"
  },
  "language_info": {
   "codemirror_mode": {
    "name": "ipython",
    "version": 3
   },
   "file_extension": ".py",
   "mimetype": "text/x-python",
   "name": "python",
   "nbconvert_exporter": "python",
   "pygments_lexer": "ipython3",
   "version": "3.10.4"
  }
 },
 "nbformat": 4,
 "nbformat_minor": 5
}
