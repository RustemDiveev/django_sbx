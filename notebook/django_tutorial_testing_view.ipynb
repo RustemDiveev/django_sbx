{
 "cells": [
  {
   "cell_type": "code",
   "execution_count": 1,
   "id": "1be0114d",
   "metadata": {},
   "outputs": [],
   "source": [
    "# Это нужно, чтобы можно было работать с файлами в Django\n",
    "import sys \n",
    "import os, django\n",
    "\n",
    "# Домашний комп\n",
    "if os.path.isdir(\"C:\\\\IT\\\\python\\\\django_sbx\\\\django_sbx\\\\django_sbx\"):\n",
    "    sys.path.append(\"C:\\\\IT\\\\python\\\\django_sbx\\\\django_sbx\\\\django_sbx\")\n",
    "# Рабочий комп \n",
    "elif os.path.isdir(\"C:\\\\Users\\\\rustem.diveev\\\\Desktop\\\\django_sbx\\\\django_sbx\"):\n",
    "    sys.path.append(\"C:\\\\Users\\\\rustem.diveev\\\\Desktop\\\\django_sbx\\\\django_sbx\")\n",
    "    \n",
    "os.environ.setdefault(\"DJANGO_SETTINGS_MODULE\", \"django_sbx.settings\")\n",
    "django.setup()\n",
    "\n",
    "# Это нужно, чтобы разрешить синхронные операции в асинхронном окружении - ничего не понял\n",
    "os.environ[\"DJANGO_ALLOW_ASYNC_UNSAFE\"] = \"true\""
   ]
  },
  {
   "cell_type": "code",
   "execution_count": 2,
   "id": "5c2afb53",
   "metadata": {},
   "outputs": [],
   "source": [
    "# Необходимо включить рендерер шаблонов, чтобы иметь возможность обратиться \n",
    "# к дополнительным атрибутам HttpResponse \n",
    "from django.test.utils import setup_test_environment \n",
    "\n",
    "setup_test_environment()"
   ]
  },
  {
   "cell_type": "code",
   "execution_count": 3,
   "id": "579317cb",
   "metadata": {},
   "outputs": [
    {
     "name": "stderr",
     "output_type": "stream",
     "text": [
      "Not Found: /\n"
     ]
    }
   ],
   "source": [
    "# Необходим Client чтобы можно было обращаться по тому или иному URL и получать response \n",
    "from django.test import Client \n",
    "\n",
    "client = Client()\n",
    "\n",
    "# Указываем URL к которому необходимо обратиться \n",
    "response = client.get(\"/\")"
   ]
  },
  {
   "cell_type": "code",
   "execution_count": 4,
   "id": "346b5d6b",
   "metadata": {},
   "outputs": [
    {
     "data": {
      "text/plain": [
       "404"
      ]
     },
     "execution_count": 4,
     "metadata": {},
     "output_type": "execute_result"
    }
   ],
   "source": [
    "# что и следовало ожидать\n",
    "response.status_code "
   ]
  },
  {
   "cell_type": "code",
   "execution_count": 6,
   "id": "7fb2608e",
   "metadata": {},
   "outputs": [
    {
     "data": {
      "text/plain": [
       "200"
      ]
     },
     "execution_count": 6,
     "metadata": {},
     "output_type": "execute_result"
    }
   ],
   "source": [
    "# Вместо хардкода URL можно использовать reverse, возвращающий часть URL по имени из URLConf \n",
    "from django.urls import reverse \n",
    "\n",
    "response = client.get(reverse(\"django_tutorial:gv_index\"))\n",
    "response.status_code"
   ]
  },
  {
   "cell_type": "code",
   "execution_count": 7,
   "id": "d6ce717d",
   "metadata": {},
   "outputs": [
    {
     "data": {
      "text/plain": [
       "b'\\n    <ul>\\n        \\n            <li>\\n                \\n\\n                <a href=\"/django_tutorial/gv/5/\">Where were you born?</a>\\n            </li>\\n        \\n            <li>\\n                \\n\\n                <a href=\"/django_tutorial/gv/4/\">Do you like fishsticks?</a>\\n            </li>\\n        \\n            <li>\\n                \\n\\n                <a href=\"/django_tutorial/gv/3/\">When is your birthday?</a>\\n            </li>\\n        \\n            <li>\\n                \\n\\n                <a href=\"/django_tutorial/gv/2/\">How old are you?</a>\\n            </li>\\n        \\n            <li>\\n                \\n\\n                <a href=\"/django_tutorial/gv/1/\">Can i fly?</a>\\n            </li>\\n        \\n    </ul>\\n'"
      ]
     },
     "execution_count": 7,
     "metadata": {},
     "output_type": "execute_result"
    }
   ],
   "source": [
    "response.content"
   ]
  },
  {
   "cell_type": "code",
   "execution_count": 8,
   "id": "fde7efa1",
   "metadata": {},
   "outputs": [
    {
     "data": {
      "text/plain": [
       "<QuerySet [<Question: Where were you born?>, <Question: Do you like fishsticks?>, <Question: When is your birthday?>, <Question: How old are you?>, <Question: Can i fly?>]>"
      ]
     },
     "execution_count": 8,
     "metadata": {},
     "output_type": "execute_result"
    }
   ],
   "source": [
    "# CONTEXT а не CONTENT\n",
    "response.context[\"latest_question_list\"]"
   ]
  },
  {
   "cell_type": "code",
   "execution_count": null,
   "id": "7888fd29",
   "metadata": {},
   "outputs": [],
   "source": []
  }
 ],
 "metadata": {
  "kernelspec": {
   "display_name": "Python 3 (ipykernel)",
   "language": "python",
   "name": "python3"
  },
  "language_info": {
   "codemirror_mode": {
    "name": "ipython",
    "version": 3
   },
   "file_extension": ".py",
   "mimetype": "text/x-python",
   "name": "python",
   "nbconvert_exporter": "python",
   "pygments_lexer": "ipython3",
   "version": "3.10.4"
  }
 },
 "nbformat": 4,
 "nbformat_minor": 5
}
