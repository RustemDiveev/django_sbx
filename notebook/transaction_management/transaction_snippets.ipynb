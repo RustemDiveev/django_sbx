{
 "cells": [
  {
   "cell_type": "code",
   "execution_count": 1,
   "id": "f788c1db",
   "metadata": {},
   "outputs": [],
   "source": [
    "# Это нужно, чтобы можно было работать с файлами в Django\n",
    "import sys \n",
    "import os, django\n",
    "\n",
    "# Домашний комп\n",
    "if os.path.isdir(\"C:\\\\IT\\\\python\\\\django_sbx\\\\django_sbx\\\\django_sbx\"):\n",
    "    sys.path.append(\"C:\\\\IT\\\\python\\\\django_sbx\\\\django_sbx\\\\django_sbx\")\n",
    "# Рабочий комп \n",
    "elif os.path.isdir(\"C:\\\\Users\\\\rustem.diveev\\\\Desktop\\\\django_sbx\\\\django_sbx\"):\n",
    "    sys.path.append(\"C:\\\\Users\\\\rustem.diveev\\\\Desktop\\\\django_sbx\\\\django_sbx\")\n",
    "    \n",
    "os.environ.setdefault(\"DJANGO_SETTINGS_MODULE\", \"django_sbx.settings\")\n",
    "django.setup()\n",
    "\n",
    "# Это нужно, чтобы разрешить синхронные операции в асинхронном окружении - ничего не понял\n",
    "os.environ[\"DJANGO_ALLOW_ASYNC_UNSAFE\"] = \"true\""
   ]
  },
  {
   "cell_type": "code",
   "execution_count": 2,
   "id": "294edcae",
   "metadata": {},
   "outputs": [],
   "source": [
    "from django.db import transaction \n",
    "\n",
    "from transaction_management.models import (\n",
    "    TransactionTutorialModelDefault, TransactionTutorialModelAdditionalDB\n",
    ")"
   ]
  },
  {
   "cell_type": "code",
   "execution_count": 3,
   "id": "ad65fd06",
   "metadata": {},
   "outputs": [],
   "source": [
    "\"\"\"\n",
    "    Статическая модель зарегистрированная в default \n",
    "    Вставляем 1 строку\n",
    "\"\"\"\n",
    "TransactionTutorialModelDefault.objects.all().delete()\n",
    "\n",
    "row = TransactionTutorialModelDefault(\n",
    "    attr_u=\"A\",\n",
    "    attr_nn=\"A\",\n",
    "    attr_ut_1=\"A\",\n",
    "    attr_ut_2=\"A\"\n",
    ")\n",
    "row.save()"
   ]
  },
  {
   "cell_type": "code",
   "execution_count": 4,
   "id": "6ae481be",
   "metadata": {},
   "outputs": [],
   "source": [
    "\"\"\"\n",
    "    Пытаемся вставить 2 строки, 1 - другая, 2 - с ранее повторяющимися значениями\n",
    "    Проверяем, что транзакция откатится\n",
    "\"\"\"\n",
    "try:\n",
    "    with transaction.atomic():\n",
    "        row = TransactionTutorialModelDefault(\n",
    "            attr_u=\"B\",\n",
    "            attr_nn=\"B\",\n",
    "            attr_ut_1=\"B\",\n",
    "            attr_ut_2=\"B\"\n",
    "        )\n",
    "        row.save()\n",
    "        row = TransactionTutorialModelDefault(\n",
    "            attr_u=\"A\",\n",
    "            attr_nn=\"A\",\n",
    "            attr_ut_1=\"A\",\n",
    "            attr_ut_2=\"A\"\n",
    "        )\n",
    "        row.save()\n",
    "except Exception:\n",
    "    pass\n"
   ]
  },
  {
   "cell_type": "code",
   "execution_count": 5,
   "id": "77cdcf40",
   "metadata": {},
   "outputs": [
    {
     "data": {
      "text/plain": [
       "1"
      ]
     },
     "execution_count": 5,
     "metadata": {},
     "output_type": "execute_result"
    }
   ],
   "source": [
    "\"\"\"\n",
    "    Действительно, видна только 1 строка\n",
    "\"\"\"\n",
    "TransactionTutorialModelDefault.objects.all().count()"
   ]
  },
  {
   "cell_type": "code",
   "execution_count": 6,
   "id": "6d7fef8f",
   "metadata": {},
   "outputs": [],
   "source": [
    "\"\"\"\n",
    "    Теперь следующий прототип: пытаемся сохранить несколько строк, где все, кроме одной - невалидные \n",
    "    Необходимо записать все ошибки в массив и откатить транзакцию\n",
    "\"\"\"\n",
    "from django.db import DatabaseError\n",
    "\n",
    "row_valid = TransactionTutorialModelDefault(\n",
    "    attr_u=\"B\",\n",
    "    attr_nn=\"B\",\n",
    "    attr_ut_1=\"B\",\n",
    "    attr_ut_2=\"B\"\n",
    ")\n",
    "\n",
    "row_invalid_u = TransactionTutorialModelDefault(\n",
    "    attr_u=\"A\",\n",
    "    attr_nn=\"A1\",\n",
    "    attr_ut_1=\"A1\",\n",
    "    attr_ut_2=\"A1\"\n",
    ")\n",
    "\n",
    "row_invalid_nn = TransactionTutorialModelDefault(\n",
    "    attr_u=\"C\",\n",
    "    attr_nn=None,\n",
    "    attr_ut_1=\"A2\",\n",
    "    attr_ut_2=\"A2\"\n",
    ")\n",
    "\n",
    "row_invalid_ut = TransactionTutorialModelDefault(\n",
    "    attr_u=\"D\",\n",
    "    attr_nn=\"D\",\n",
    "    attr_ut_1=\"A\",\n",
    "    attr_ut_2=\"A\"\n",
    ")\n",
    "\n",
    "rows = [row_valid, row_invalid_u, row_invalid_nn, row_invalid_ut]\n",
    "errors = []\n",
    "\n",
    "\"\"\"\n",
    "    Так нельзя, к сожалению - последние ошибки не выводятся\n",
    "\"\"\"\n",
    "with transaction.atomic():\n",
    "    for row in rows:\n",
    "        try:\n",
    "            row.save()\n",
    "        except DatabaseError as err:\n",
    "            errors.append(err)"
   ]
  },
  {
   "cell_type": "code",
   "execution_count": 7,
   "id": "2a56b5aa",
   "metadata": {},
   "outputs": [
    {
     "data": {
      "text/plain": [
       "[django.db.utils.IntegrityError('ОШИБКА:  повторяющееся значение ключа нарушает ограничение уникальности \"transaction_management_transactiontutorialmodeldefau_attr_u_key\"\\nDETAIL:  Ключ \"(attr_u)=(A)\" уже существует.\\n'),\n",
       " django.db.transaction.TransactionManagementError(\"An error occurred in the current transaction. You can't execute queries until the end of the 'atomic' block.\"),\n",
       " django.db.transaction.TransactionManagementError(\"An error occurred in the current transaction. You can't execute queries until the end of the 'atomic' block.\")]"
      ]
     },
     "execution_count": 7,
     "metadata": {},
     "output_type": "execute_result"
    }
   ],
   "source": [
    "errors"
   ]
  },
  {
   "cell_type": "code",
   "execution_count": 8,
   "id": "b3819af8",
   "metadata": {},
   "outputs": [
    {
     "data": {
      "text/plain": [
       "[django.db.utils.IntegrityError('ОШИБКА:  повторяющееся значение ключа нарушает ограничение уникальности \"transaction_management_transactiontutorialmodeldefau_attr_u_key\"\\nDETAIL:  Ключ \"(attr_u)=(A)\" уже существует.\\n'),\n",
       " django.db.utils.IntegrityError('ОШИБКА:  значение NULL в столбце \"attr_nn\" отношения \"transaction_management_transactiontutorialmodeldefault\" нарушает ограничение NOT NULL\\nDETAIL:  Ошибочная строка содержит (63, C, null, A2, A2).\\n'),\n",
       " django.db.utils.IntegrityError('ОШИБКА:  повторяющееся значение ключа нарушает ограничение уникальности \"transaction_management_t_attr_ut_1_attr_ut_2_1e765a22_uniq\"\\nDETAIL:  Ключ \"(attr_ut_1, attr_ut_2)=(A, A)\" уже существует.\\n')]"
      ]
     },
     "execution_count": 8,
     "metadata": {},
     "output_type": "execute_result"
    }
   ],
   "source": [
    "errors = []\n",
    "\n",
    "\"\"\"\n",
    "    Так работает и собирает все ошибки, но при этом не откатывает если что-то пошло не так\n",
    "\"\"\"\n",
    "for row in rows:\n",
    "    try:\n",
    "        row.save()\n",
    "    except DatabaseError as err:\n",
    "        errors.append(err)\n",
    "        \n",
    "errors"
   ]
  },
  {
   "cell_type": "code",
   "execution_count": 9,
   "id": "318cb926",
   "metadata": {},
   "outputs": [
    {
     "data": {
      "text/plain": [
       "(1, {'transaction_management.TransactionTutorialModelDefault': 1})"
      ]
     },
     "execution_count": 9,
     "metadata": {},
     "output_type": "execute_result"
    }
   ],
   "source": [
    "TransactionTutorialModelDefault.objects.exclude(attr_u=\"A\").delete()"
   ]
  },
  {
   "cell_type": "code",
   "execution_count": 10,
   "id": "ab59a757",
   "metadata": {},
   "outputs": [],
   "source": [
    "\"\"\"\n",
    "    Пробуем собрать все ошибки и откатить транзакцию целиком, если есть хотя бы 1 ошибка\n",
    "    Вот это работает, и это нереально здорово\n",
    "\"\"\"\n",
    "errors = []\n",
    "\n",
    "try:\n",
    "    with transaction.atomic():\n",
    "        for row in rows:\n",
    "            with transaction.atomic():\n",
    "                try:\n",
    "                    row.save()\n",
    "                except DatabaseError as err:\n",
    "                    errors.append(err)\n",
    "        if errors:\n",
    "            raise DatabaseError\n",
    "except DatabaseError:\n",
    "    pass"
   ]
  },
  {
   "cell_type": "code",
   "execution_count": 11,
   "id": "e8611b74",
   "metadata": {},
   "outputs": [
    {
     "data": {
      "text/plain": [
       "[django.db.utils.IntegrityError('ОШИБКА:  повторяющееся значение ключа нарушает ограничение уникальности \"transaction_management_transactiontutorialmodeldefau_attr_u_key\"\\nDETAIL:  Ключ \"(attr_u)=(A)\" уже существует.\\n'),\n",
       " django.db.utils.IntegrityError('ОШИБКА:  значение NULL в столбце \"attr_nn\" отношения \"transaction_management_transactiontutorialmodeldefault\" нарушает ограничение NOT NULL\\nDETAIL:  Ошибочная строка содержит (66, C, null, A2, A2).\\n'),\n",
       " django.db.utils.IntegrityError('ОШИБКА:  повторяющееся значение ключа нарушает ограничение уникальности \"transaction_management_t_attr_ut_1_attr_ut_2_1e765a22_uniq\"\\nDETAIL:  Ключ \"(attr_ut_1, attr_ut_2)=(A, A)\" уже существует.\\n')]"
      ]
     },
     "execution_count": 11,
     "metadata": {},
     "output_type": "execute_result"
    }
   ],
   "source": [
    "errors"
   ]
  },
  {
   "cell_type": "code",
   "execution_count": 12,
   "id": "abf90557",
   "metadata": {},
   "outputs": [],
   "source": [
    "\"\"\"\n",
    "    Пробуем выполнить то же самое с моделью в другой БД (не default)\n",
    "\"\"\"\n",
    "TransactionTutorialModelAdditionalDB.objects.db_manager(\"additional_db\").all().delete()\n",
    "\n",
    "row = TransactionTutorialModelAdditionalDB(\n",
    "    attr_u=\"A\",\n",
    "    attr_nn=\"A\",\n",
    "    attr_ut_1=\"A\",\n",
    "    attr_ut_2=\"A\"\n",
    ").save(using=\"additional_db\")\n"
   ]
  },
  {
   "cell_type": "code",
   "execution_count": 13,
   "id": "8ac473a4",
   "metadata": {},
   "outputs": [
    {
     "data": {
      "text/plain": [
       "[django.db.utils.IntegrityError('ОШИБКА:  повторяющееся значение ключа нарушает ограничение уникальности \"transaction_management_transactiontutorialmodeladdit_attr_u_key\"\\nDETAIL:  Ключ \"(attr_u)=(A)\" уже существует.\\n'),\n",
       " django.db.utils.IntegrityError('ОШИБКА:  значение NULL в столбце \"attr_nn\" отношения \"transaction_management_transactiontutorialmodeladditionaldb\" нарушает ограничение NOT NULL\\nDETAIL:  Ошибочная строка содержит (9, C, null, A2, A2).\\n'),\n",
       " django.db.utils.IntegrityError('ОШИБКА:  повторяющееся значение ключа нарушает ограничение уникальности \"transaction_management_t_attr_ut_1_attr_ut_2_4ce65a96_uniq\"\\nDETAIL:  Ключ \"(attr_ut_1, attr_ut_2)=(A, A)\" уже существует.\\n')]"
      ]
     },
     "execution_count": 13,
     "metadata": {},
     "output_type": "execute_result"
    }
   ],
   "source": [
    "row_valid = TransactionTutorialModelAdditionalDB(\n",
    "    attr_u=\"B\",\n",
    "    attr_nn=\"B\",\n",
    "    attr_ut_1=\"B\",\n",
    "    attr_ut_2=\"B\"\n",
    ")\n",
    "\n",
    "row_invalid_u = TransactionTutorialModelAdditionalDB(\n",
    "    attr_u=\"A\",\n",
    "    attr_nn=\"A1\",\n",
    "    attr_ut_1=\"A1\",\n",
    "    attr_ut_2=\"A1\"\n",
    ")\n",
    "\n",
    "row_invalid_nn = TransactionTutorialModelAdditionalDB(\n",
    "    attr_u=\"C\",\n",
    "    attr_nn=None,\n",
    "    attr_ut_1=\"A2\",\n",
    "    attr_ut_2=\"A2\"\n",
    ")\n",
    "\n",
    "row_invalid_ut = TransactionTutorialModelAdditionalDB(\n",
    "    attr_u=\"D\",\n",
    "    attr_nn=\"D\",\n",
    "    attr_ut_1=\"A\",\n",
    "    attr_ut_2=\"A\"\n",
    ")\n",
    "\n",
    "rows = [row_valid, row_invalid_u, row_invalid_nn, row_invalid_ut]\n",
    "errors = []\n",
    "\n",
    "try:\n",
    "    with transaction.atomic():\n",
    "        for row in rows:\n",
    "            with transaction.atomic():\n",
    "                try:\n",
    "                    row.save(using=\"additional_db\")\n",
    "                except DatabaseError as err:\n",
    "                    errors.append(err)\n",
    "        if errors:\n",
    "            raise DatabaseError\n",
    "except DatabaseError:\n",
    "    pass\n",
    "\n",
    "errors\n"
   ]
  },
  {
   "cell_type": "code",
   "execution_count": null,
   "id": "bf86d228",
   "metadata": {},
   "outputs": [],
   "source": []
  }
 ],
 "metadata": {
  "kernelspec": {
   "display_name": "Python 3 (ipykernel)",
   "language": "python",
   "name": "python3"
  },
  "language_info": {
   "codemirror_mode": {
    "name": "ipython",
    "version": 3
   },
   "file_extension": ".py",
   "mimetype": "text/x-python",
   "name": "python",
   "nbconvert_exporter": "python",
   "pygments_lexer": "ipython3",
   "version": "3.10.4"
  }
 },
 "nbformat": 4,
 "nbformat_minor": 5
}
