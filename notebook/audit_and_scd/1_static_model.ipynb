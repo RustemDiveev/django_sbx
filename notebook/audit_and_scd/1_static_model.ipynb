{
 "cells": [
  {
   "cell_type": "code",
   "execution_count": 1,
   "id": "f178b6ae",
   "metadata": {},
   "outputs": [],
   "source": [
    "# Это нужно, чтобы можно было работать с файлами в Django\n",
    "import sys \n",
    "import os, django\n",
    "\n",
    "# Домашний комп\n",
    "if os.path.isdir(\"C:\\\\IT\\\\python\\\\django_sbx\\\\django_sbx\\\\django_sbx\"):\n",
    "    sys.path.append(\"C:\\\\IT\\\\python\\\\django_sbx\\\\django_sbx\\\\django_sbx\")\n",
    "# Рабочий комп \n",
    "elif os.path.isdir(\"C:\\\\Users\\\\rustem.diveev\\\\Desktop\\\\django_sbx\\\\django_sbx\"):\n",
    "    sys.path.append(\"C:\\\\Users\\\\rustem.diveev\\\\Desktop\\\\django_sbx\\\\django_sbx\")\n",
    "    \n",
    "os.environ.setdefault(\"DJANGO_SETTINGS_MODULE\", \"django_sbx.settings\")\n",
    "django.setup()\n",
    "\n",
    "# Это нужно, чтобы разрешить синхронные операции в асинхронном окружении - ничего не понял\n",
    "os.environ[\"DJANGO_ALLOW_ASYNC_UNSAFE\"] = \"true\""
   ]
  },
  {
   "cell_type": "code",
   "execution_count": 2,
   "id": "cae8d14f",
   "metadata": {},
   "outputs": [],
   "source": [
    "from audit_and_scd.models import StaticModel"
   ]
  },
  {
   "cell_type": "code",
   "execution_count": 3,
   "id": "37307a41",
   "metadata": {},
   "outputs": [
    {
     "data": {
      "text/plain": [
       "<QuerySet [{'id': 37, 'created_by': 'Creator', 'created_dt': datetime.date(2022, 6, 24), 'created_dttm': datetime.datetime(2022, 6, 24, 12, 2, 52, 25548, tzinfo=datetime.timezone.utc), 'modified_by': 'Modifier', 'modified_dt': datetime.date(2022, 6, 24), 'modified_dttm': datetime.datetime(2022, 6, 24, 12, 2, 52, 25548, tzinfo=datetime.timezone.utc), 'food_name': 'Hamburger', 'price': Decimal('100.00')}, {'id': 38, 'created_by': 'Creator', 'created_dt': datetime.date(2022, 6, 24), 'created_dttm': datetime.datetime(2022, 6, 24, 12, 2, 52, 27547, tzinfo=datetime.timezone.utc), 'modified_by': 'Modifier', 'modified_dt': datetime.date(2022, 6, 24), 'modified_dttm': datetime.datetime(2022, 6, 24, 12, 2, 52, 27547, tzinfo=datetime.timezone.utc), 'food_name': 'Pizza', 'price': Decimal('250.99')}]>"
      ]
     },
     "execution_count": 3,
     "metadata": {},
     "output_type": "execute_result"
    }
   ],
   "source": [
    "StaticModel.objects.all().delete()\n",
    "\n",
    "row = StaticModel(\n",
    "    food_name=\"Hamburger\",\n",
    "    price=100.00\n",
    ")\n",
    "row.save()\n",
    "\n",
    "StaticModel.objects.create(\n",
    "    food_name=\"Pizza\",\n",
    "    price=250.99\n",
    ")\n",
    "\n",
    "StaticModel.objects.values()"
   ]
  },
  {
   "cell_type": "code",
   "execution_count": 4,
   "id": "d457b80e",
   "metadata": {},
   "outputs": [],
   "source": [
    "from django.db import connection\n",
    "\n",
    "from audit_and_scd.models import get_dynamic_model_v1\n",
    "\n",
    "# Получение модели \n",
    "model = get_dynamic_model_v1()\n",
    "\n",
    "with connection.schema_editor() as db:\n",
    "    db.delete_model(model)\n",
    "    db.create_model(model)"
   ]
  },
  {
   "cell_type": "code",
   "execution_count": 5,
   "id": "88ae0d4d",
   "metadata": {},
   "outputs": [
    {
     "data": {
      "text/plain": [
       "<QuerySet [{'id': 1, 'name': 'Juice'}]>"
      ]
     },
     "execution_count": 5,
     "metadata": {},
     "output_type": "execute_result"
    }
   ],
   "source": [
    "row = model(name=\"Juice\")\n",
    "row.save()\n",
    "\n",
    "model.objects.values()"
   ]
  },
  {
   "cell_type": "code",
   "execution_count": 6,
   "id": "aea75e62",
   "metadata": {},
   "outputs": [],
   "source": [
    "from django.db.utils import ProgrammingError\n",
    "\n",
    "from audit_and_scd.models import get_dynamic_model_v2 \n",
    "\n",
    "model = get_dynamic_model_v2()\n",
    "\n",
    "with connection.schema_editor() as db:\n",
    "    try:\n",
    "        db.delete_model(model)\n",
    "    except ProgrammingError:\n",
    "        pass \n",
    "    \n",
    "with connection.schema_editor() as db:\n",
    "    db.create_model(model)"
   ]
  },
  {
   "cell_type": "code",
   "execution_count": 7,
   "id": "8389247b",
   "metadata": {},
   "outputs": [
    {
     "data": {
      "text/plain": [
       "<QuerySet [{'id': 1, 'created_by': 'Creator', 'created_dt': datetime.date(2022, 6, 24), 'created_dttm': datetime.datetime(2022, 6, 24, 12, 2, 52, 170773, tzinfo=datetime.timezone.utc), 'modified_by': 'Modifier', 'modified_dt': datetime.date(2022, 6, 24), 'modified_dttm': datetime.datetime(2022, 6, 24, 12, 2, 52, 170773, tzinfo=datetime.timezone.utc), 'name': 'Abstract'}]>"
      ]
     },
     "execution_count": 7,
     "metadata": {},
     "output_type": "execute_result"
    }
   ],
   "source": [
    "row = model(name=\"Abstract\")\n",
    "row.save()\n",
    "\n",
    "model.objects.values()"
   ]
  },
  {
   "cell_type": "code",
   "execution_count": 9,
   "id": "1567eafc",
   "metadata": {},
   "outputs": [
    {
     "data": {
      "text/plain": [
       "<QuerySet [{'id': 1, 'created_by': 'Creator', 'created_dt': datetime.date(2022, 6, 24), 'created_dttm': datetime.datetime(2022, 6, 24, 12, 2, 52, 170773, tzinfo=datetime.timezone.utc), 'modified_by': 'Modifier', 'modified_dt': datetime.date(2022, 6, 24), 'modified_dttm': datetime.datetime(2022, 6, 24, 12, 2, 52, 170773, tzinfo=datetime.timezone.utc), 'name': 'Abstract'}, {'id': 2, 'created_by': 'Creator', 'created_dt': datetime.date(2022, 6, 24), 'created_dttm': datetime.datetime(2022, 6, 24, 13, 27, 16, 823313, tzinfo=datetime.timezone.utc), 'modified_by': 'Modifier', 'modified_dt': datetime.date(2022, 6, 24), 'modified_dttm': datetime.datetime(2022, 6, 24, 13, 27, 16, 823313, tzinfo=datetime.timezone.utc), 'name': 'QuerySet'}, {'id': 3, 'created_by': 'Creator', 'created_dt': datetime.date(2022, 6, 24), 'created_dttm': datetime.datetime(2022, 6, 24, 13, 27, 43, 58748, tzinfo=datetime.timezone.utc), 'modified_by': 'Modifier', 'modified_dt': datetime.date(2022, 6, 24), 'modified_dttm': datetime.datetime(2022, 6, 24, 13, 27, 43, 59747, tzinfo=datetime.timezone.utc), 'name': 'QuerySet'}]>"
      ]
     },
     "execution_count": 9,
     "metadata": {},
     "output_type": "execute_result"
    }
   ],
   "source": [
    "# проверим, что метод save выполняется и при использовании QuerySet\n",
    "\n",
    "model.objects.create(\n",
    "    name=\"QuerySet\"\n",
    ")\n",
    "\n",
    "model.objects.values()"
   ]
  },
  {
   "cell_type": "code",
   "execution_count": null,
   "id": "9789d09a",
   "metadata": {},
   "outputs": [],
   "source": []
  }
 ],
 "metadata": {
  "kernelspec": {
   "display_name": "Python 3 (ipykernel)",
   "language": "python",
   "name": "python3"
  },
  "language_info": {
   "codemirror_mode": {
    "name": "ipython",
    "version": 3
   },
   "file_extension": ".py",
   "mimetype": "text/x-python",
   "name": "python",
   "nbconvert_exporter": "python",
   "pygments_lexer": "ipython3",
   "version": "3.10.4"
  }
 },
 "nbformat": 4,
 "nbformat_minor": 5
}
