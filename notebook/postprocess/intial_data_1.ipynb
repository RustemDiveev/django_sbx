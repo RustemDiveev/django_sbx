{
 "cells": [
  {
   "cell_type": "code",
   "execution_count": 1,
   "id": "8d8b78e9",
   "metadata": {},
   "outputs": [],
   "source": [
    "# Это нужно, чтобы можно было работать с файлами в Django\n",
    "import sys \n",
    "import os, django\n",
    "\n",
    "# Домашний комп\n",
    "if os.path.isdir(\"C:\\\\IT\\\\python\\\\django_sbx\\\\django_sbx\\\\django_sbx\"):\n",
    "    sys.path.append(\"C:\\\\IT\\\\python\\\\django_sbx\\\\django_sbx\\\\django_sbx\")\n",
    "# Рабочий комп \n",
    "elif os.path.isdir(\"C:\\\\Users\\\\rustem.diveev\\\\Desktop\\\\django_sbx\\\\django_sbx\"):\n",
    "    sys.path.append(\"C:\\\\Users\\\\rustem.diveev\\\\Desktop\\\\django_sbx\\\\django_sbx\")\n",
    "    \n",
    "os.environ.setdefault(\"DJANGO_SETTINGS_MODULE\", \"django_sbx.settings\")\n",
    "django.setup()\n",
    "\n",
    "# Это нужно, чтобы разрешить синхронные операции в асинхронном окружении - ничего не понял\n",
    "os.environ[\"DJANGO_ALLOW_ASYNC_UNSAFE\"] = \"true\""
   ]
  },
  {
   "cell_type": "code",
   "execution_count": 2,
   "id": "6678d2bd",
   "metadata": {},
   "outputs": [
    {
     "data": {
      "text/plain": [
       "(4, {'postprocess.Breed': 4})"
      ]
     },
     "execution_count": 2,
     "metadata": {},
     "output_type": "execute_result"
    }
   ],
   "source": [
    "from postprocess.models import Breed, Shelter, Dog \n",
    "\n",
    "Dog.objects.using(\"data\").all().delete()\n",
    "Shelter.objects.using(\"data\").all().delete()\n",
    "Breed.objects.using(\"data\").all().delete()"
   ]
  },
  {
   "cell_type": "code",
   "execution_count": 3,
   "id": "277431fb",
   "metadata": {},
   "outputs": [
    {
     "data": {
      "text/plain": [
       "<Breed: Breed object (13)>"
      ]
     },
     "execution_count": 3,
     "metadata": {},
     "output_type": "execute_result"
    }
   ],
   "source": [
    "Breed.objects.using(\"data\").create(\n",
    "    **{\"name\": \"Poodle\", \"is_rare_flg\": False, \"is_hunter_flg\": False}\n",
    ")\n",
    "Breed.objects.using(\"data\").create(\n",
    "    **{\"name\": \"Borzoi\", \"is_rare_flg\": False, \"is_hunter_flg\": True}\n",
    ")\n",
    "Breed.objects.using(\"data\").create(\n",
    "    **{\"name\": \"Ratter\", \"is_rare_flg\": True, \"is_hunter_flg\": False}\n",
    ")\n",
    "Breed.objects.using(\"data\").create(\n",
    "    **{\"name\": \"Pungsan\", \"is_rare_flg\": True, \"is_hunter_flg\": True}\n",
    ")"
   ]
  },
  {
   "cell_type": "code",
   "execution_count": 4,
   "id": "f37b691b",
   "metadata": {},
   "outputs": [
    {
     "data": {
      "text/plain": [
       "<Shelter: Shelter object (9)>"
      ]
     },
     "execution_count": 4,
     "metadata": {},
     "output_type": "execute_result"
    }
   ],
   "source": [
    "Shelter.objects.using(\"data\").create(\n",
    "    **{\"name\": \"Dog's Heaven\", \"city\": \"Mexico\", \"address\": \"1st Jump\"}\n",
    ")\n",
    "Shelter.objects.using(\"data\").create(\n",
    "    **{\"name\": \"Peedigree's Pleasure\", \"city\": \"Kazan\", \"address\": \"21st Elm\"}\n",
    ")\n",
    "Shelter.objects.using(\"data\").create(\n",
    "    **{\"name\": \"Good Boy inc\", \"city\": \"Zhenshen\", \"address\": \"42nd Rice\"}\n",
    ")"
   ]
  },
  {
   "cell_type": "code",
   "execution_count": 5,
   "id": "bf523b0f",
   "metadata": {},
   "outputs": [
    {
     "data": {
      "text/plain": [
       "<Dog: Dog object (12)>"
      ]
     },
     "execution_count": 5,
     "metadata": {},
     "output_type": "execute_result"
    }
   ],
   "source": [
    "Dog.objects.using(\"data\").create(\n",
    "    **{\n",
    "        \"name\": \"Snoopy\", \n",
    "        \"breed\": Breed.objects.using(\"data\").get(name=\"Poodle\"),\n",
    "        \"age\": 1,\n",
    "        \"shelter\": Shelter.objects.using(\"data\").get(name=\"Dog's Heaven\"),\n",
    "    }\n",
    ")\n",
    "\n",
    "Dog.objects.using(\"data\").create(\n",
    "    **{\n",
    "        \"name\": \"Doodles\", \n",
    "        \"breed\": Breed.objects.using(\"data\").get(name=\"Ratter\"),\n",
    "        \"age\": 2,\n",
    "        \"shelter\": Shelter.objects.using(\"data\").get(name=\"Dog's Heaven\"),\n",
    "    }\n",
    ")\n",
    "\n",
    "Dog.objects.using(\"data\").create(\n",
    "    **{\n",
    "        \"name\": \"Butcher\", \n",
    "        \"breed\": Breed.objects.using(\"data\").get(name=\"Borzoi\"),\n",
    "        \"age\": 3,\n",
    "        \"shelter\": Shelter.objects.using(\"data\").get(name=\"Good Boy inc\"),\n",
    "    }\n",
    ")\n",
    "\n",
    "Dog.objects.using(\"data\").create(\n",
    "    **{\n",
    "        \"name\": \"Lee\", \n",
    "        \"breed\": Breed.objects.using(\"data\").get(name=\"Pungsan\"),\n",
    "        \"age\": 4,\n",
    "        \"shelter\": Shelter.objects.using(\"data\").get(name=\"Good Boy inc\"),\n",
    "    }\n",
    ")"
   ]
  },
  {
   "cell_type": "code",
   "execution_count": null,
   "id": "8b33ae26",
   "metadata": {},
   "outputs": [],
   "source": []
  }
 ],
 "metadata": {
  "kernelspec": {
   "display_name": "Python 3 (ipykernel)",
   "language": "python",
   "name": "python3"
  },
  "language_info": {
   "codemirror_mode": {
    "name": "ipython",
    "version": 3
   },
   "file_extension": ".py",
   "mimetype": "text/x-python",
   "name": "python",
   "nbconvert_exporter": "python",
   "pygments_lexer": "ipython3",
   "version": "3.10.4"
  }
 },
 "nbformat": 4,
 "nbformat_minor": 5
}
