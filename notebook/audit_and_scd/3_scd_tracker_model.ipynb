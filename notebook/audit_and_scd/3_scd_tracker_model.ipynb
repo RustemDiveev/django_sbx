{
 "cells": [
  {
   "cell_type": "code",
   "execution_count": 1,
   "id": "b54a7190",
   "metadata": {},
   "outputs": [],
   "source": [
    "# Это нужно, чтобы можно было работать с файлами в Django\n",
    "import sys \n",
    "import os, django\n",
    "\n",
    "# Домашний комп\n",
    "if os.path.isdir(\"C:\\\\IT\\\\python\\\\django_sbx\\\\django_sbx\\\\django_sbx\"):\n",
    "    sys.path.append(\"C:\\\\IT\\\\python\\\\django_sbx\\\\django_sbx\\\\django_sbx\")\n",
    "# Рабочий комп \n",
    "elif os.path.isdir(\"C:\\\\Users\\\\rustem.diveev\\\\Desktop\\\\django_sbx\\\\django_sbx\"):\n",
    "    sys.path.append(\"C:\\\\Users\\\\rustem.diveev\\\\Desktop\\\\django_sbx\\\\django_sbx\")\n",
    "    \n",
    "os.environ.setdefault(\"DJANGO_SETTINGS_MODULE\", \"django_sbx.settings\")\n",
    "django.setup()\n",
    "\n",
    "# Это нужно, чтобы разрешить синхронные операции в асинхронном окружении - ничего не понял\n",
    "os.environ[\"DJANGO_ALLOW_ASYNC_UNSAFE\"] = \"true\""
   ]
  },
  {
   "cell_type": "code",
   "execution_count": 2,
   "id": "b3901251",
   "metadata": {},
   "outputs": [
    {
     "data": {
      "text/plain": [
       "<pymongo.results.DeleteResult at 0x184b56bff70>"
      ]
     },
     "execution_count": 2,
     "metadata": {},
     "output_type": "execute_result"
    }
   ],
   "source": [
    "from audit_and_scd.scd_tracker import get_hardcoded_model, register_model\n",
    "\n",
    "model = get_hardcoded_model()\n",
    "register_model(model)\n",
    "model.objects.all().delete()\n",
    "\n",
    "from pymongo import MongoClient\n",
    "\n",
    "client = MongoClient(\"localhost\", 27017)\n",
    "db = client.test\n",
    "collection = db[\"SCDModelV2\"]\n",
    "collection.delete_many({})"
   ]
  },
  {
   "cell_type": "code",
   "execution_count": 3,
   "id": "1a6b648a",
   "metadata": {},
   "outputs": [
    {
     "data": {
      "text/plain": [
       "<QuerySet [{'id': 1, 'created_by': 'Rustem', 'created_dttm': datetime.datetime(2022, 6, 27, 7, 59, 47, 236681, tzinfo=datetime.timezone.utc), 'modified_by': None, 'modified_dttm': None, 'pk_field': 'A', 'attr': 'Alpha'}]>"
      ]
     },
     "execution_count": 3,
     "metadata": {},
     "output_type": "execute_result"
    }
   ],
   "source": [
    "row = model(\n",
    "    pk_field=\"A\",\n",
    "    attr=\"Alpha\"\n",
    ")\n",
    "\n",
    "row.save(user=\"Rustem\")\n",
    "\n",
    "model.objects.all().values()"
   ]
  },
  {
   "cell_type": "code",
   "execution_count": 4,
   "id": "30f1ff4f",
   "metadata": {},
   "outputs": [
    {
     "data": {
      "text/plain": [
       "0"
      ]
     },
     "execution_count": 4,
     "metadata": {},
     "output_type": "execute_result"
    }
   ],
   "source": [
    "collection.count_documents({})"
   ]
  },
  {
   "cell_type": "code",
   "execution_count": 5,
   "id": "12159345",
   "metadata": {},
   "outputs": [
    {
     "data": {
      "text/plain": [
       "1"
      ]
     },
     "execution_count": 5,
     "metadata": {},
     "output_type": "execute_result"
    }
   ],
   "source": [
    "row.attr = \"Omega\"\n",
    "row.save(user=\"Bazyr\")\n",
    "\n",
    "collection.count_documents({})"
   ]
  },
  {
   "cell_type": "code",
   "execution_count": 7,
   "id": "133f73fa",
   "metadata": {},
   "outputs": [
    {
     "name": "stdout",
     "output_type": "stream",
     "text": [
      "{'_id': ObjectId('62b96373f0403dc18a5a3b8d'), 'id': 1, 'created_by': 'Rustem', 'created_dttm': datetime.datetime(2022, 6, 27, 7, 59, 47, 236000), 'modified_by': None, 'modified_dttm': None, 'pk_field': 'A', 'attr': 'Alpha', 'modified_to_dttm': datetime.datetime(2022, 6, 27, 7, 59, 47, 282000)}\n"
     ]
    }
   ],
   "source": [
    "for document in collection.find():\n",
    "    print(document)"
   ]
  },
  {
   "cell_type": "code",
   "execution_count": 8,
   "id": "b9a66908",
   "metadata": {},
   "outputs": [
    {
     "name": "stdout",
     "output_type": "stream",
     "text": [
      "{'_id': ObjectId('62b96373f0403dc18a5a3b8d'), 'id': 1, 'created_by': 'Rustem', 'created_dttm': datetime.datetime(2022, 6, 27, 7, 59, 47, 236000), 'modified_by': None, 'modified_dttm': None, 'pk_field': 'A', 'attr': 'Alpha', 'modified_to_dttm': datetime.datetime(2022, 6, 27, 7, 59, 47, 282000)}\n",
      "{'_id': ObjectId('62b96414f0403dc18a5a3b8f'), 'id': 1, 'created_by': 'Rustem', 'created_dttm': datetime.datetime(2022, 6, 27, 7, 59, 47, 236000), 'modified_by': 'Bazyr', 'modified_dttm': datetime.datetime(2022, 6, 27, 7, 59, 47, 282000), 'pk_field': 'A', 'attr': 'Omega', 'modified_to_dttm': datetime.datetime(2022, 6, 27, 8, 2, 28, 708000)}\n"
     ]
    }
   ],
   "source": [
    "row.attr = \"Delta\"\n",
    "row.save(user=\"Dorgik\")\n",
    "\n",
    "for document in collection.find():\n",
    "    print(document)"
   ]
  },
  {
   "cell_type": "code",
   "execution_count": 9,
   "id": "fa65e49b",
   "metadata": {},
   "outputs": [
    {
     "data": {
      "text/plain": [
       "<QuerySet [{'id': 1, 'created_by': 'Rustem', 'created_dttm': datetime.datetime(2022, 6, 27, 7, 59, 47, 236681, tzinfo=datetime.timezone.utc), 'modified_by': 'Dorgik', 'modified_dttm': datetime.datetime(2022, 6, 27, 8, 2, 28, 708747, tzinfo=datetime.timezone.utc), 'pk_field': 'A', 'attr': 'Delta'}]>"
      ]
     },
     "execution_count": 9,
     "metadata": {},
     "output_type": "execute_result"
    }
   ],
   "source": [
    "model.objects.all().values()"
   ]
  },
  {
   "cell_type": "code",
   "execution_count": 10,
   "id": "b99e8760",
   "metadata": {},
   "outputs": [
    {
     "name": "stdout",
     "output_type": "stream",
     "text": [
      "{'_id': ObjectId('62b96373f0403dc18a5a3b8d'), 'id': 1, 'created_by': 'Rustem', 'created_dttm': datetime.datetime(2022, 6, 27, 7, 59, 47, 236000), 'modified_by': None, 'modified_dttm': None, 'pk_field': 'A', 'attr': 'Alpha', 'modified_to_dttm': datetime.datetime(2022, 6, 27, 7, 59, 47, 282000)}\n",
      "{'_id': ObjectId('62b96414f0403dc18a5a3b8f'), 'id': 1, 'created_by': 'Rustem', 'created_dttm': datetime.datetime(2022, 6, 27, 7, 59, 47, 236000), 'modified_by': 'Bazyr', 'modified_dttm': datetime.datetime(2022, 6, 27, 7, 59, 47, 282000), 'pk_field': 'A', 'attr': 'Omega', 'modified_to_dttm': datetime.datetime(2022, 6, 27, 8, 2, 28, 708000)}\n",
      "{'_id': ObjectId('62b96445f0403dc18a5a3b91'), 'id': 1, 'created_by': 'Rustem', 'created_dttm': datetime.datetime(2022, 6, 27, 7, 59, 47, 236000), 'modified_by': 'Dorgik', 'modified_dttm': datetime.datetime(2022, 6, 27, 8, 2, 28, 708000), 'pk_field': 'A', 'attr': 'Delta', 'modified_to_dttm': datetime.datetime(2022, 6, 27, 8, 3, 17, 407000), 'deleted_by': 'Niyaz'}\n"
     ]
    }
   ],
   "source": [
    "row.delete(user=\"Niyaz\")\n",
    "\n",
    "for document in collection.find():\n",
    "    print(document)"
   ]
  },
  {
   "cell_type": "code",
   "execution_count": null,
   "id": "e3d42015",
   "metadata": {},
   "outputs": [],
   "source": []
  }
 ],
 "metadata": {
  "kernelspec": {
   "display_name": "Python 3 (ipykernel)",
   "language": "python",
   "name": "python3"
  },
  "language_info": {
   "codemirror_mode": {
    "name": "ipython",
    "version": 3
   },
   "file_extension": ".py",
   "mimetype": "text/x-python",
   "name": "python",
   "nbconvert_exporter": "python",
   "pygments_lexer": "ipython3",
   "version": "3.10.4"
  }
 },
 "nbformat": 4,
 "nbformat_minor": 5
}
